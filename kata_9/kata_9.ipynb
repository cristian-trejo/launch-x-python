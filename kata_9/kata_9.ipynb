{
 "cells": [
  {
   "cell_type": "markdown",
   "source": [
    "## Ejercicio: Uso de funciones en Python\n",
    "\n",
    "\n",
    "### Ejercicio 1: Trabajar con argumentos en funciones\n",
    "\n",
    "Los argumentos requeridos en las funciones se utilizan cuando las funciones necesitan que esos argumentos funcionen correctamente. En este ejercicio, construirás un informe de combustible que requiere información de varias ubicaciones de combustible en todo el cohete.\n",
    "\n",
    "Comienza por crear una función que necesite tres lecturas de combustible y devuelva un informe:"
   ],
   "metadata": {}
  },
  {
   "cell_type": "code",
   "execution_count": 2,
   "source": [
    "from statistics import mean"
   ],
   "outputs": [],
   "metadata": {}
  },
  {
   "cell_type": "code",
   "execution_count": 10,
   "source": [
    "def get_fuel_avg(tank_1, tank_2, tank_3):\n",
    "    tanks = [tank_1, tank_2, tank_3]\n",
    "    return mean(tanks)\n",
    "\n",
    "print(f'Fuel average: {get_fuel_avg(2, 30, 16)}')"
   ],
   "outputs": [
    {
     "output_type": "stream",
     "name": "stdout",
     "text": [
      "Fuel average: 16\n"
     ]
    }
   ],
   "metadata": {}
  },
  {
   "cell_type": "markdown",
   "source": [
    "## Ejercicio 2: Trabajo con argumentos de palabra clave\n",
    "\n",
    "En este ejercicio, construirás un informe de cohete que requiere varias piezas de información, como el tiempo hasta el destino, el combustible a la izquierda y el nombre del destino. Comienza por crear una función que creará un informe preciso de la misión:"
   ],
   "metadata": {}
  },
  {
   "cell_type": "code",
   "execution_count": 15,
   "source": [
    "def get_spaceship_status(destination, *time, **fuel_tanks):\n",
    "    launch_time = sum(time)\n",
    "    print(f\"Status of the spaceship\\n{'-'*50}\\nDestination: {destination}\\nTime till launch: {launch_time} minutes\\nNumber of tanks: {len(fuel_tanks)}\")\n",
    "    for tank, fuel in fuel_tanks.items():\n",
    "        print(f\"Fuel status: {tank} tank has {fuel} liters\")\n",
    "\n",
    "get_spaceship_status('Mars', 12, 14, 29, 12, front = 100, back = 500, reservoir = 50)"
   ],
   "outputs": [
    {
     "output_type": "stream",
     "name": "stdout",
     "text": [
      "Status of the spaceship\n",
      "--------------------------------------------------\n",
      "Destination: Mars\n",
      "Time till launch: 67 minutes\n",
      "Number of tanks: 3\n",
      "Fuel status: front tank has 100 liters\n",
      "Fuel status: back tank has 500 liters\n",
      "Fuel status: reservoir tank has 50 liters\n"
     ]
    }
   ],
   "metadata": {}
  },
  {
   "cell_type": "code",
   "execution_count": 16,
   "source": [
    "#def mission_report(destination, *minutes, **fuel_reservoirs):\n",
    "#    main_report = f\"\"\"\n",
    "#    Mission to {destination}\n",
    "#    Total travel time: {sum(minutes)} minutes\n",
    "#    Total fuel left: {sum(fuel_reservoirs.values())}\n",
    "#    \"\"\"\n",
    "#    for tank_name, gallons in fuel_reservoirs.items():\n",
    "#        main_report += f\"{tank_name} tank --> {gallons} gallons left\\n\"\n",
    "#    return main_report\n",
    "\n",
    "#print(mission_report(\"Moon\", 8, 11, 55, main=300000, external=200000))"
   ],
   "outputs": [
    {
     "output_type": "stream",
     "name": "stdout",
     "text": [
      "\n",
      "    Mission to Moon\n",
      "    Total travel time: 74 minutes\n",
      "    Total fuel left: 500000\n",
      "    main tank --> 300000 gallons left\n",
      "external tank --> 200000 gallons left\n",
      "\n"
     ]
    }
   ],
   "metadata": {}
  }
 ],
 "metadata": {
  "orig_nbformat": 4,
  "language_info": {
   "name": "python",
   "version": "3.9.7",
   "mimetype": "text/x-python",
   "codemirror_mode": {
    "name": "ipython",
    "version": 3
   },
   "pygments_lexer": "ipython3",
   "nbconvert_exporter": "python",
   "file_extension": ".py"
  },
  "kernelspec": {
   "name": "python3",
   "display_name": "Python 3.9.7 64-bit"
  },
  "interpreter": {
   "hash": "31f2aee4e71d21fbe5cf8b01ff0e069b9275f58929596ceb00d14d90e3e16cd6"
  }
 },
 "nbformat": 4,
 "nbformat_minor": 2
}