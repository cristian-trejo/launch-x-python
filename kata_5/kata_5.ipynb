{
 "cells": [
  {
   "cell_type": "markdown",
   "source": [
    "## Ejercicios con Operadores Aritméticos"
   ],
   "metadata": {}
  },
  {
   "cell_type": "markdown",
   "source": [
    "### Ejercicio 1:\n",
    "Crear un programa que pueda calcular la distancia entre dos planetas. Comenzaremos usando dos distancias de planetas: Tierra (149.597.870 km) y Júpiter (778.547.200 km)."
   ],
   "metadata": {}
  },
  {
   "cell_type": "code",
   "execution_count": 1,
   "source": [
    "distanceEarth = 149_597_870\n",
    "distanceJupiter = 778_547_200"
   ],
   "outputs": [],
   "metadata": {}
  },
  {
   "cell_type": "code",
   "execution_count": 4,
   "source": [
    "distanceBetweenPlanets = distanceJupiter - distanceEarth\n",
    "print(f'Distance between Earth and Jupiter: {distanceBetweenPlanets} km')\n",
    "print(f'Distance between Earth and Jupiter: {distanceBetweenPlanets * 0.621} mi')"
   ],
   "outputs": [
    {
     "output_type": "stream",
     "name": "stdout",
     "text": [
      "Distance between Earth and Jupiter: 628949330 km\n",
      "Distance between Earth and Jupiter: 390577533.93 mi\n"
     ]
    }
   ],
   "metadata": {}
  },
  {
   "cell_type": "markdown",
   "source": [
    "### Ejercicio 2:\n",
    "Crear una aplicación para trabajar con números y entrada de usuario.\n",
    "\n",
    "Para crear nuestra aplicación, queremos leer la distancia del sol para dos planetas, y luego mostrar la distancia entre los planetas. Haremos esto usando input para leer los valores, int para convertir a entero y luego abs para convertir el resultado en su valor absoluto."
   ],
   "metadata": {}
  },
  {
   "cell_type": "code",
   "execution_count": 14,
   "source": [
    "distancePlanet_1 = input(\"Enter the distance in km to the sun of the first planet: \")\n",
    "distancePlanet_2 = input(\"Enter the distance in km to the sun of the second planet: \")\n",
    "\n",
    "distances = (int(distancePlanet_1), int(distancePlanet_2))\n",
    "\n",
    "distanceBetweenPlanets = abs(distances[0] - distances[1])"
   ],
   "outputs": [],
   "metadata": {}
  },
  {
   "cell_type": "code",
   "execution_count": 15,
   "source": [
    "print(f'Distance between planets: {distanceBetweenPlanets} km')\n",
    "print(f'Distance between planets: {distanceBetweenPlanets * 0.621} mi')"
   ],
   "outputs": [
    {
     "output_type": "stream",
     "name": "stdout",
     "text": [
      "Distance between planets: 5 km\n",
      "Distance between planets: 3.105 mi\n"
     ]
    }
   ],
   "metadata": {}
  }
 ],
 "metadata": {
  "orig_nbformat": 4,
  "language_info": {
   "name": "python",
   "version": "3.9.7",
   "mimetype": "text/x-python",
   "codemirror_mode": {
    "name": "ipython",
    "version": 3
   },
   "pygments_lexer": "ipython3",
   "nbconvert_exporter": "python",
   "file_extension": ".py"
  },
  "kernelspec": {
   "name": "python3",
   "display_name": "Python 3.9.7 64-bit"
  },
  "interpreter": {
   "hash": "31f2aee4e71d21fbe5cf8b01ff0e069b9275f58929596ceb00d14d90e3e16cd6"
  }
 },
 "nbformat": 4,
 "nbformat_minor": 2
}